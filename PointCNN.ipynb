{
  "nbformat": 4,
  "nbformat_minor": 0,
  "metadata": {
    "colab": {
      "name": "PointCNN.ipynb",
      "provenance": [],
      "authorship_tag": "ABX9TyOCrGv31dIPXrLyOuRGiLyh",
      "include_colab_link": true
    },
    "kernelspec": {
      "name": "python3",
      "display_name": "Python 3"
    },
    "language_info": {
      "name": "python"
    },
    "accelerator": "GPU"
  },
  "cells": [
    {
      "cell_type": "markdown",
      "metadata": {
        "id": "view-in-github",
        "colab_type": "text"
      },
      "source": [
        "<a href=\"https://colab.research.google.com/github/Chathu84/Python/blob/master/PointCNN.ipynb\" target=\"_parent\"><img src=\"https://colab.research.google.com/assets/colab-badge.svg\" alt=\"Open In Colab\"/></a>"
      ]
    },
    {
      "cell_type": "code",
      "execution_count": 3,
      "metadata": {
        "colab": {
          "base_uri": "https://localhost:8080/"
        },
        "id": "P0W4xBru8UsC",
        "outputId": "f0cbe84a-dd13-4957-ef82-15f911802c7c"
      },
      "outputs": [
        {
          "output_type": "stream",
          "name": "stdout",
          "text": [
            "Collecting trimesh\n",
            "  Downloading trimesh-3.11.2-py3-none-any.whl (645 kB)\n",
            "\u001b[?25l\r\u001b[K     |▌                               | 10 kB 24.0 MB/s eta 0:00:01\r\u001b[K     |█                               | 20 kB 11.2 MB/s eta 0:00:01\r\u001b[K     |█▌                              | 30 kB 9.2 MB/s eta 0:00:01\r\u001b[K     |██                              | 40 kB 4.5 MB/s eta 0:00:01\r\u001b[K     |██▌                             | 51 kB 4.4 MB/s eta 0:00:01\r\u001b[K     |███                             | 61 kB 5.2 MB/s eta 0:00:01\r\u001b[K     |███▌                            | 71 kB 5.8 MB/s eta 0:00:01\r\u001b[K     |████                            | 81 kB 5.6 MB/s eta 0:00:01\r\u001b[K     |████▋                           | 92 kB 6.2 MB/s eta 0:00:01\r\u001b[K     |█████                           | 102 kB 5.3 MB/s eta 0:00:01\r\u001b[K     |█████▋                          | 112 kB 5.3 MB/s eta 0:00:01\r\u001b[K     |██████                          | 122 kB 5.3 MB/s eta 0:00:01\r\u001b[K     |██████▋                         | 133 kB 5.3 MB/s eta 0:00:01\r\u001b[K     |███████                         | 143 kB 5.3 MB/s eta 0:00:01\r\u001b[K     |███████▋                        | 153 kB 5.3 MB/s eta 0:00:01\r\u001b[K     |████████▏                       | 163 kB 5.3 MB/s eta 0:00:01\r\u001b[K     |████████▋                       | 174 kB 5.3 MB/s eta 0:00:01\r\u001b[K     |█████████▏                      | 184 kB 5.3 MB/s eta 0:00:01\r\u001b[K     |█████████▋                      | 194 kB 5.3 MB/s eta 0:00:01\r\u001b[K     |██████████▏                     | 204 kB 5.3 MB/s eta 0:00:01\r\u001b[K     |██████████▋                     | 215 kB 5.3 MB/s eta 0:00:01\r\u001b[K     |███████████▏                    | 225 kB 5.3 MB/s eta 0:00:01\r\u001b[K     |███████████▊                    | 235 kB 5.3 MB/s eta 0:00:01\r\u001b[K     |████████████▏                   | 245 kB 5.3 MB/s eta 0:00:01\r\u001b[K     |████████████▊                   | 256 kB 5.3 MB/s eta 0:00:01\r\u001b[K     |█████████████▏                  | 266 kB 5.3 MB/s eta 0:00:01\r\u001b[K     |█████████████▊                  | 276 kB 5.3 MB/s eta 0:00:01\r\u001b[K     |██████████████▏                 | 286 kB 5.3 MB/s eta 0:00:01\r\u001b[K     |██████████████▊                 | 296 kB 5.3 MB/s eta 0:00:01\r\u001b[K     |███████████████▏                | 307 kB 5.3 MB/s eta 0:00:01\r\u001b[K     |███████████████▊                | 317 kB 5.3 MB/s eta 0:00:01\r\u001b[K     |████████████████▎               | 327 kB 5.3 MB/s eta 0:00:01\r\u001b[K     |████████████████▊               | 337 kB 5.3 MB/s eta 0:00:01\r\u001b[K     |█████████████████▎              | 348 kB 5.3 MB/s eta 0:00:01\r\u001b[K     |█████████████████▊              | 358 kB 5.3 MB/s eta 0:00:01\r\u001b[K     |██████████████████▎             | 368 kB 5.3 MB/s eta 0:00:01\r\u001b[K     |██████████████████▊             | 378 kB 5.3 MB/s eta 0:00:01\r\u001b[K     |███████████████████▎            | 389 kB 5.3 MB/s eta 0:00:01\r\u001b[K     |███████████████████▉            | 399 kB 5.3 MB/s eta 0:00:01\r\u001b[K     |████████████████████▎           | 409 kB 5.3 MB/s eta 0:00:01\r\u001b[K     |████████████████████▉           | 419 kB 5.3 MB/s eta 0:00:01\r\u001b[K     |█████████████████████▎          | 430 kB 5.3 MB/s eta 0:00:01\r\u001b[K     |█████████████████████▉          | 440 kB 5.3 MB/s eta 0:00:01\r\u001b[K     |██████████████████████▎         | 450 kB 5.3 MB/s eta 0:00:01\r\u001b[K     |██████████████████████▉         | 460 kB 5.3 MB/s eta 0:00:01\r\u001b[K     |███████████████████████▍        | 471 kB 5.3 MB/s eta 0:00:01\r\u001b[K     |███████████████████████▉        | 481 kB 5.3 MB/s eta 0:00:01\r\u001b[K     |████████████████████████▍       | 491 kB 5.3 MB/s eta 0:00:01\r\u001b[K     |████████████████████████▉       | 501 kB 5.3 MB/s eta 0:00:01\r\u001b[K     |█████████████████████████▍      | 512 kB 5.3 MB/s eta 0:00:01\r\u001b[K     |█████████████████████████▉      | 522 kB 5.3 MB/s eta 0:00:01\r\u001b[K     |██████████████████████████▍     | 532 kB 5.3 MB/s eta 0:00:01\r\u001b[K     |███████████████████████████     | 542 kB 5.3 MB/s eta 0:00:01\r\u001b[K     |███████████████████████████▍    | 552 kB 5.3 MB/s eta 0:00:01\r\u001b[K     |████████████████████████████    | 563 kB 5.3 MB/s eta 0:00:01\r\u001b[K     |████████████████████████████▍   | 573 kB 5.3 MB/s eta 0:00:01\r\u001b[K     |█████████████████████████████   | 583 kB 5.3 MB/s eta 0:00:01\r\u001b[K     |█████████████████████████████▍  | 593 kB 5.3 MB/s eta 0:00:01\r\u001b[K     |██████████████████████████████  | 604 kB 5.3 MB/s eta 0:00:01\r\u001b[K     |██████████████████████████████▍ | 614 kB 5.3 MB/s eta 0:00:01\r\u001b[K     |███████████████████████████████ | 624 kB 5.3 MB/s eta 0:00:01\r\u001b[K     |███████████████████████████████▌| 634 kB 5.3 MB/s eta 0:00:01\r\u001b[K     |████████████████████████████████| 645 kB 5.3 MB/s eta 0:00:01\r\u001b[K     |████████████████████████████████| 645 kB 5.3 MB/s \n",
            "\u001b[?25hRequirement already satisfied: numpy in /usr/local/lib/python3.7/dist-packages (from trimesh) (1.21.6)\n",
            "Installing collected packages: trimesh\n",
            "Successfully installed trimesh-3.11.2\n"
          ]
        }
      ],
      "source": [
        "!pip install trimesh"
      ]
    },
    {
      "cell_type": "code",
      "source": [
        "import os\n",
        "import glob\n",
        "import trimesh\n",
        "import numpy as np\n",
        "import tensorflow as tf\n",
        "from tensorflow import keras\n",
        "from tensorflow.keras import layers\n",
        "from matplotlib import pyplot as plt\n",
        "\n",
        "tf.random.set_seed(1234)\n",
        "\n"
      ],
      "metadata": {
        "id": "rzGqiwZs84gM"
      },
      "execution_count": 4,
      "outputs": []
    },
    {
      "cell_type": "code",
      "source": [
        "physical_devices = tf.config.experimental.list_physical_devices(\"GPU\")\n",
        "print(\"GPU devices\", len(physical_devices))"
      ],
      "metadata": {
        "colab": {
          "base_uri": "https://localhost:8080/"
        },
        "id": "JILI4Q0f9xKb",
        "outputId": "0624283b-0595-4934-bb56-2c2b448fe268"
      },
      "execution_count": 5,
      "outputs": [
        {
          "output_type": "stream",
          "name": "stdout",
          "text": [
            "GPU devices 1\n"
          ]
        }
      ]
    },
    {
      "cell_type": "code",
      "source": [
        "tf.config.experimental.set_memory_growth(physical_devices[0], True)"
      ],
      "metadata": {
        "id": "PUlS7_rgFH5T"
      },
      "execution_count": 6,
      "outputs": []
    },
    {
      "cell_type": "code",
      "source": [
        "DATA_DIR = tf.keras.utils.get_file(\"modelnet.zip\",\"http://3dvision.princeton.edu/projects/2014/3DShapeNets/ModelNet10.zip\")"
      ],
      "metadata": {
        "colab": {
          "base_uri": "https://localhost:8080/"
        },
        "id": "q-cE_sArFaE5",
        "outputId": "e1ecb4aa-fc4c-4e48-af50-029af4ce259a"
      },
      "execution_count": 7,
      "outputs": [
        {
          "output_type": "stream",
          "name": "stdout",
          "text": [
            "Downloading data from http://3dvision.princeton.edu/projects/2014/3DShapeNets/ModelNet10.zip\n",
            "473407488/473402300 [==============================] - 6s 0us/step\n",
            "473415680/473402300 [==============================] - 6s 0us/step\n"
          ]
        }
      ]
    },
    {
      "cell_type": "code",
      "source": [
        "DATA_DIR = os.path.join(os.path.dirname(DATA_DIR),\"ModelNetw10\")"
      ],
      "metadata": {
        "id": "5JYttmlSHGMk"
      },
      "execution_count": 8,
      "outputs": []
    },
    {
      "cell_type": "code",
      "source": [
        "from google.colab import drive\n",
        "drive.mount('/content/drive', force_remount=True)\n",
        "root_dir = '/content/drive/My Drive/pointcnn/'\n",
        "base_dir = root_dir + 'test/'"
      ],
      "metadata": {
        "id": "OAdZU8N68a41"
      },
      "execution_count": null,
      "outputs": []
    }
  ]
}